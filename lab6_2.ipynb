{
 "cells": [
  {
   "cell_type": "code",
   "execution_count": 17,
   "metadata": {},
   "outputs": [
    {
     "name": "stdout",
     "output_type": "stream",
     "text": [
      "ชื่อพนักงาน: รักติยา\n",
      "เงินเดือน: 10000.00\n",
      "ล่วงเวลา: 40.00\n",
      "ค่าล่วงเวลา: 6000.00\n",
      "รวมเป็นเงินเดือนทั้งสิ้น: 10040.00\n"
     ]
    }
   ],
   "source": [
    "def salary(name,sa,ot): \n",
    "    if(ot>=40):\n",
    "        mn_ot=ot*150\n",
    "    else: \n",
    "        mn_ot=ot*100\n",
    "    total = sa + ot \n",
    "    print(\"ชื่อพนักงาน: %s\" % name)\n",
    "    print(\"เงินเดือน: %.2f\" % sa)\n",
    "    print(\"ล่วงเวลา: %.2f\" % ot)\n",
    "    print(\"ค่าล่วงเวลา: %.2f\" % mn_ot)\n",
    "    print(\"รวมเป็นเงินเดือนทั้งสิ้น: %.2f\" % total)\n",
    "\n",
    "name = input(\"ชื่อพนักงาน: \")\n",
    "sa = int(input(\"เงินเดือน: \"))\n",
    "ot = int(input(\"ล่วงเวลา: \"))\n",
    "salary(name,sa,ot)\n"
   ]
  }
 ],
 "metadata": {
  "kernelspec": {
   "display_name": "Python 3",
   "language": "python",
   "name": "python3"
  },
  "language_info": {
   "codemirror_mode": {
    "name": "ipython",
    "version": 3
   },
   "file_extension": ".py",
   "mimetype": "text/x-python",
   "name": "python",
   "nbconvert_exporter": "python",
   "pygments_lexer": "ipython3",
   "version": "3.12.3"
  }
 },
 "nbformat": 4,
 "nbformat_minor": 2
}

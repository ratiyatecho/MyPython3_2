{
 "cells": [
  {
   "cell_type": "code",
   "execution_count": 6,
   "metadata": {},
   "outputs": [
    {
     "name": "stdout",
     "output_type": "stream",
     "text": [
      "สวัสดีฮะ\n"
     ]
    }
   ],
   "source": [
    "print(\"สวัสดีฮะ\")"
   ]
  },
  {
   "cell_type": "code",
   "execution_count": 15,
   "metadata": {},
   "outputs": [],
   "source": [
    "x = 10 \n",
    "y= 20\n",
    "z= x+y\n",
    "a = {10,20,30,40,50}\n",
    "b = {10,20,30,40,50}\n",
    "c = {10,20,30,40,50}\n",
    "d = {\"name\": \"Raktiya\", \"email\": \"ratiyatecho@gmail.com\", \"Tell\":\"080-2397279\"}"
   ]
  }
 ],
 "metadata": {
  "kernelspec": {
   "display_name": "Python 3",
   "language": "python",
   "name": "python3"
  },
  "language_info": {
   "codemirror_mode": {
    "name": "ipython",
    "version": 3
   },
   "file_extension": ".py",
   "mimetype": "text/x-python",
   "name": "python",
   "nbconvert_exporter": "python",
   "pygments_lexer": "ipython3",
   "version": "3.12.3"
  }
 },
 "nbformat": 4,
 "nbformat_minor": 2
}
